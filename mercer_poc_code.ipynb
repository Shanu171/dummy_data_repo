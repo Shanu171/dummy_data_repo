# ===============================================================
# UK PMI Predictive Model - Cost Sustainability (2023–2024)
# ===============================================================
# Author: ChatGPT
# Purpose: Predict high claim members using realistic synthetic PMI data
# ===============================================================

import pandas as pd
import numpy as np
import matplotlib.pyplot as plt
import seaborn as sns
from sklearn.model_selection import train_test_split
from sklearn.preprocessing import LabelEncoder
from sklearn.metrics import classification_report, confusion_matrix, roc_auc_score
import xgboost as xgb
import shap
import warnings

warnings.filterwarnings("ignore")
pd.set_option('display.max_columns', None)

# ---------------------------------------------------------------
# 1. Load Data
# ---------------------------------------------------------------
claims = pd.read_csv("claims_200k_realistic.csv")
membership = pd.read_csv("membership_10k_realistic.csv")

print(f"Claims shape: {claims.shape}")
print(f"Membership shape: {membership.shape}")

# ---------------------------------------------------------------
# 2. Clean Basic Columns
# ---------------------------------------------------------------
# Remove obvious duplicates
claims.drop_duplicates(inplace=True)
membership.drop_duplicates(inplace=True)

# Standardize column names
claims.columns = claims.columns.str.strip().str.replace(" ", "_").str.lower()
membership.columns = membership.columns.str.strip().str.replace(" ", "_").str.lower()

# ---------------------------------------------------------------
# 3. Create Aggregated Features Per Member
# ---------------------------------------------------------------
HIGH_CLAIM_AMOUNT_THRESHOLD = 10000   # GBP 10k high-claim definition
HIGH_CLAIM_COUNT_THRESHOLD = 3        # 3+ claims = frequent claimant

agg = (
    claims.groupby("unique_member_reference")
    .agg(
        total_claim_amount=("claim_amount", "sum"),
        avg_claim_amount=("claim_amount", "mean"),
        median_claim_amount=("claim_amount", "median"),
        max_claim_amount=("claim_amount", "max"),
        min_claim_amount=("claim_amount", "min"),
        claim_count=("claim_id", "count"),
        high_claim_count=("claim_amount", lambda s: (s >= HIGH_CLAIM_AMOUNT_THRESHOLD).sum()),
        high_claim_total=("claim_amount", lambda s: s[s >= HIGH_CLAIM_AMOUNT_THRESHOLD].sum()),
    )
    .reset_index()
)

agg["target_high_claim_amount_flag"] = (
    agg["total_claim_amount"] >= HIGH_CLAIM_AMOUNT_THRESHOLD
).astype(int)

agg["target_high_claim_count_flag"] = (
    agg["claim_count"] >= HIGH_CLAIM_COUNT_THRESHOLD
).astype(int)

print("\nAggregated claim features:")
print(agg.head())

# ---------------------------------------------------------------
# 4. Merge with Membership Data
# ---------------------------------------------------------------
merged = pd.merge(membership, agg, on="unique_member_reference", how="left")

# Fill missing claim metrics with 0
claim_cols = [
    "total_claim_amount","avg_claim_amount","median_claim_amount","max_claim_amount",
    "min_claim_amount","claim_count","high_claim_count","high_claim_total",
    "target_high_claim_amount_flag","target_high_claim_count_flag"
]
merged[claim_cols] = merged[claim_cols].fillna(0)

print(f"\nMerged data shape: {merged.shape}")

# ---------------------------------------------------------------
# 5. EDA & Correlation Matrix
# ---------------------------------------------------------------
numeric_cols = merged.select_dtypes(include=[np.number]).columns
corr = merged[numeric_cols].corr()

plt.figure(figsize=(12,10))
sns.heatmap(corr, cmap="coolwarm", center=0)
plt.title("Correlation Matrix (Numeric Features)")
plt.tight_layout()
plt.savefig("correlation_matrix.png", dpi=300)
plt.close()

print("\nCorrelation matrix saved as 'correlation_matrix.png'")

# ---------------------------------------------------------------
# 6. Prepare Data for Modeling
# ---------------------------------------------------------------
target = "target_high_claim_amount_flag"
X = merged.drop(columns=[
    "unique_member_reference", target, "target_high_claim_count_flag"
])
y = merged[target]

# Encode categorical features
cat_cols = X.select_dtypes(include=["object"]).columns
le = LabelEncoder()
for c in cat_cols:
    try:
        X[c] = le.fit_transform(X[c].astype(str))
    except:
        X[c] = 0

# Convert everything to numeric
def clean_numeric(val):
    if isinstance(val, (int, float, np.number)):
        return val
    if isinstance(val, str):
        val = val.replace("[","").replace("]","").replace(",","")
        try:
            return float(val)
        except:
            return np.nan
    return np.nan

for c in X.columns:
    X[c] = X[c].apply(clean_numeric)
X = X.fillna(0.0).astype(float)

print(f"Final feature matrix shape: {X.shape}")

# ---------------------------------------------------------------
# 7. Train/Test Split
# ---------------------------------------------------------------
X_train, X_test, y_train, y_test = train_test_split(
    X, y, test_size=0.2, random_state=42, stratify=y
)

# ---------------------------------------------------------------
# 8. Train XGBoost Model
# ---------------------------------------------------------------
model = xgb.XGBClassifier(
    n_estimators=400,
    learning_rate=0.05,
    max_depth=6,
    subsample=0.8,
    colsample_bytree=0.8,
    random_state=42,
    eval_metric="auc",
    tree_method="hist"
)
model.fit(X_train, y_train)

# ---------------------------------------------------------------
# 9. Model Evaluation
# ---------------------------------------------------------------
y_pred = model.predict(X_test)
y_prob = model.predict_proba(X_test)[:,1]

print("\nClassification Report:")
print(classification_report(y_test, y_pred))
print("ROC-AUC Score:", roc_auc_score(y_test, y_prob))
print("Confusion Matrix:\n", confusion_matrix(y_test, y_pred))

# ---------------------------------------------------------------
# 10. Feature Importance
# ---------------------------------------------------------------
plt.figure(figsize=(10,6))
xgb.plot_importance(model, max_num_features=15)
plt.title("Top 15 XGBoost Feature Importances")
plt.tight_layout()
plt.savefig("xgb_feature_importance.png", dpi=300)
plt.close()

print("Feature importance saved as 'xgb_feature_importance.png'")

# ---------------------------------------------------------------
# 11. SHAP Analysis
# ---------------------------------------------------------------
explainer = shap.TreeExplainer(model)
sample_X = X_test.sample(min(1000, len(X_test)), random_state=42)
shap_values = explainer.shap_values(sample_X)

shap.summary_plot(shap_values, sample_X, show=False)
plt.title("SHAP Summary - Feature Impact on High Claim Probability")
plt.tight_layout()
plt.savefig("shap_summary.png", dpi=300)
plt.close()

print("SHAP summary saved as 'shap_summary.png'")

print("\n✅ Predictive modeling completed successfully!")
